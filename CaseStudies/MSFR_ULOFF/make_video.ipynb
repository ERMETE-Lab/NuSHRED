{
 "cells": [
  {
   "cell_type": "code",
   "execution_count": 2,
   "metadata": {},
   "outputs": [
    {
     "name": "stdout",
     "output_type": "stream",
     "text": [
      "Video creato con successo: shred_recon_T.mp4\n"
     ]
    }
   ],
   "source": [
    "import cv2\n",
    "import os\n",
    "\n",
    "field_to_video = 'T'\n",
    "\n",
    "# Specifica il percorso della cartella contenente le immagini\n",
    "input_folder = './Test_results/Fig/'+field_to_video+'/'\n",
    "\n",
    "# Specifica il nome del video di output\n",
    "output_video_path = 'shred_recon_'+field_to_video+'.mp4'\n",
    "\n",
    "# Elenco delle immagini nella cartella\n",
    "image_files = [f for f in os.listdir(input_folder) if f.endswith(('.png', '.jpg', '.jpeg'))]\n",
    "\n",
    "# # Ordina le immagini alfabeticamente\n",
    "def extract_number(name):\n",
    "    return float(name.split('_')[2].replace('.png', ''))\n",
    "\n",
    "# Sort the list based on the numeric part\n",
    "image_files = sorted(image_files, key=extract_number)\n",
    "# image_files.sort()\n",
    "\n",
    "\n",
    "# Ottieni la risoluzione dell'immagine di partenza\n",
    "first_image = cv2.imread(os.path.join(input_folder, image_files[0]))\n",
    "height, width, _ = first_image.shape\n",
    "\n",
    "# Specifica il frame rate desiderato\n",
    "frame_rate = 48  # Modifica questo valore secondo le tue esigenze\n",
    "\n",
    "# Creare un oggetto VideoWriter\n",
    "fourcc = cv2.VideoWriter_fourcc(*'mp4v')  # Cambia 'mp4v' con 'XVID' se desideri un codec diverso\n",
    "video_writer = cv2.VideoWriter(output_video_path, fourcc, frame_rate, (width, height))\n",
    "\n",
    "# Itera attraverso le immagini e scrivi nel video\n",
    "for image_file in image_files:\n",
    "    image_path = os.path.join(input_folder, image_file)\n",
    "    frame = cv2.imread(image_path)\n",
    "    video_writer.write(frame)\n",
    "\n",
    "# Rilascia l'oggetto VideoWriter\n",
    "video_writer.release()\n",
    "\n",
    "print(f\"Video creato con successo: {output_video_path}\")"
   ]
  }
 ],
 "metadata": {
  "kernelspec": {
   "display_name": "mp",
   "language": "python",
   "name": "python3"
  },
  "language_info": {
   "codemirror_mode": {
    "name": "ipython",
    "version": 3
   },
   "file_extension": ".py",
   "mimetype": "text/x-python",
   "name": "python",
   "nbconvert_exporter": "python",
   "pygments_lexer": "ipython3",
   "version": "3.10.12"
  }
 },
 "nbformat": 4,
 "nbformat_minor": 2
}
