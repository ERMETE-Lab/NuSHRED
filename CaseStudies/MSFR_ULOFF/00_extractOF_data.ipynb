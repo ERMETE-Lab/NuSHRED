{
 "cells": [
  {
   "cell_type": "markdown",
   "metadata": {},
   "source": [
    "# Importing OF data and mapping to dolfinx"
   ]
  },
  {
   "cell_type": "markdown",
   "metadata": {},
   "source": [
    "At first, let us define the variables to read"
   ]
  },
  {
   "cell_type": "code",
   "execution_count": 1,
   "metadata": {},
   "outputs": [],
   "source": [
    "energy_groups = 6\n",
    "var_names = ['flux'+str(ii) for ii in range(1, energy_groups+1)]\n",
    "\n",
    "prec_groups = 8\n",
    "var_names.extend(['prec'+str(ii) for ii in range(1, prec_groups+1)])\n",
    "\n",
    "dec_groups = 3\n",
    "var_names.extend(['dec'+str(ii) for ii in range(1, dec_groups+1)])\n",
    "\n",
    "var_names.extend(['T', 'p', 'U'])"
   ]
  },
  {
   "cell_type": "markdown",
   "metadata": {},
   "source": [
    "## Import from OF\n",
    "Then, let us use *pyforce* to import the data, starting from the mesh."
   ]
  },
  {
   "cell_type": "code",
   "execution_count": 2,
   "metadata": {},
   "outputs": [],
   "source": [
    "from pyforce.tools.write_read import import_OF\n",
    "\n",
    "oF = import_OF('./OpenFOAM_data', extract_dofs=True)\n",
    "mesh = oF.of_dofs.T"
   ]
  },
  {
   "cell_type": "markdown",
   "metadata": {},
   "source": [
    "Then, let us focus on the fields"
   ]
  },
  {
   "cell_type": "code",
   "execution_count": 3,
   "metadata": {},
   "outputs": [
    {
     "name": "stdout",
     "output_type": "stream",
     "text": [
      "Importing flux1\n",
      "Importing flux2\n",
      "Importing flux3\n",
      "Importing flux4\n",
      "Importing flux5\n",
      "Importing flux6\n",
      "Importing prec1\n",
      "Importing prec2\n",
      "Importing prec3\n",
      "Importing prec4\n",
      "Importing prec5\n",
      "Importing prec6\n",
      "Importing prec7\n",
      "Importing prec8\n",
      "Importing dec1\n",
      "Importing dec2\n",
      "Importing dec3\n",
      "Importing T\n",
      "Importing p\n",
      "Importing U\n"
     ]
    }
   ],
   "source": [
    "import numpy as np\n",
    "\n",
    "is_vector = [False] * len(var_names)\n",
    "is_vector[-1] = True\n",
    "\n",
    "gdim = mesh.shape[1]\n",
    "\n",
    "of_snaps = dict()\n",
    "\n",
    "for field_i, field in enumerate(var_names):\n",
    "    \n",
    "    tmp = oF.import_field(field, vector=is_vector[field_i], verbose=True)\n",
    "\n",
    "    if field_i == 0:\n",
    "        times = tmp[1]\n",
    "\n",
    "    if is_vector[field_i]:\n",
    "        dofs = int(mesh.shape[0]*3)\n",
    "    else:\n",
    "        dofs = mesh.shape[0]\n",
    "    of_snaps[field] = tmp[0]\n",
    "\n",
    "    del tmp"
   ]
  },
  {
   "cell_type": "markdown",
   "metadata": {},
   "source": [
    "The vector fields are organized as follows."
   ]
  },
  {
   "cell_type": "code",
   "execution_count": 4,
   "metadata": {},
   "outputs": [],
   "source": [
    "# u_vec = list()\n",
    "\n",
    "# for kk in range(gdim):\n",
    "#     u_vec.append(snaps['U'](0)[kk::3]**2)\n",
    "\n",
    "# import matplotlib.pyplot as plt\n",
    "# from matplotlib import cm\n",
    "\n",
    "# plt.scatter(mesh[:,0], mesh[:,2], c=np.sqrt(sum(u_vec)), cmap = cm.jet)"
   ]
  },
  {
   "cell_type": "markdown",
   "metadata": {},
   "source": [
    "## Mapping to *dolfinx*\n",
    "\n",
    "The mesh is generated starting from the `.geo` file."
   ]
  },
  {
   "cell_type": "code",
   "execution_count": 5,
   "metadata": {},
   "outputs": [
    {
     "name": "stdout",
     "output_type": "stream",
     "text": [
      "Info    : Reading '../EVOL_geom.geo'...\n",
      "Info    : Done reading '../EVOL_geom.geo'\n",
      "Info    : Meshing 1D...\n",
      "Info    : [  0%] Meshing curve 1 (Line)\n",
      "Info    : [ 10%] Meshing curve 2 (Line)\n",
      "Info    : [ 20%] Meshing curve 3 (Line)\n",
      "Info    : [ 30%] Meshing curve 4 (Line)\n",
      "Info    : [ 40%] Meshing curve 5 (Line)\n",
      "Info    : [ 40%] Meshing curve 6 (Line)\n",
      "Info    : [ 50%] Meshing curve 7 (Line)\n",
      "Info    : [ 60%] Meshing curve 8 (Line)\n",
      "Info    : [ 70%] Meshing curve 9 (Line)\n",
      "Info    : [ 70%] Meshing curve 10 (Line)\n",
      "Info    : [ 80%] Meshing curve 11 (Line)\n",
      "Info    : [ 90%] Meshing curve 12 (Line)\n",
      "Info    : [100%] Meshing curve 13 (Line)\n",
      "Info    : Done meshing 1D (Wall 0.0405295s, CPU 0.004213s)\n",
      "Info    : Meshing 2D...\n",
      "Info    : [  0%] Meshing surface 1 (Plane, Frontal-Delaunay)\n",
      "Info    : [ 50%] Meshing surface 2 (Plane, Frontal-Delaunay)\n",
      "Info    : Done meshing 2D (Wall 1.36024s, CPU 1.29674s)\n",
      "Info    : 45732 nodes 92055 elements\n",
      "Info    : Optimizing mesh (Netgen)...\n",
      "Info    : Done optimizing mesh (Wall 1.4673e-05s, CPU 2.9e-05s)\n"
     ]
    }
   ],
   "source": [
    "import gmsh\n",
    "from mpi4py import MPI\n",
    "from dolfinx.io import gmshio\n",
    "\n",
    "mesh_comm = MPI.COMM_WORLD\n",
    "model_rank = 0\n",
    "mesh_factor = .011\n",
    "\n",
    "# Initialize the gmsh module\n",
    "gmsh.initialize()\n",
    "\n",
    "# Load the .geo file\n",
    "gmsh.merge('../EVOL_geom.geo')\n",
    "gmsh.model.geo.synchronize()\n",
    "\n",
    "# Set algorithm (adaptive = 1, Frontal-Delaunay = 6)\n",
    "gmsh.option.setNumber(\"Mesh.Algorithm\", 6)\n",
    "gmsh.option.setNumber(\"Mesh.MeshSizeFactor\", mesh_factor)\n",
    "gdim = 2\n",
    "\n",
    "# Linear Finite Element\n",
    "gmsh.model.mesh.generate(gdim)\n",
    "gmsh.model.mesh.optimize(\"Netgen\")\n",
    "\n",
    "# Import into dolfinx\n",
    "model_rank = 0\n",
    "domain, ct, ft = gmshio.model_to_mesh(gmsh.model, MPI.COMM_WORLD, model_rank, gdim = gdim )\n",
    "\n",
    "domain.topology.create_connectivity(gdim, gdim)\n",
    "domain.topology.create_connectivity(gdim-1, gdim)\n",
    "\n",
    "# Finalize the gmsh module\n",
    "gmsh.finalize()"
   ]
  },
  {
   "cell_type": "markdown",
   "metadata": {},
   "source": [
    "Let us define the functional space for each variable, recalling that the last is for a vector field."
   ]
  },
  {
   "cell_type": "code",
   "execution_count": 6,
   "metadata": {},
   "outputs": [],
   "source": [
    "from dolfinx.fem import FunctionSpace\n",
    "import ufl\n",
    "\n",
    "fun_spaces = [FunctionSpace(domain, ('Lagrange', 1))]*(len(var_names)-1)\n",
    "fun_spaces.append(FunctionSpace(domain, ufl.VectorElement(\"CG\", domain.ufl_cell(), 1)))"
   ]
  },
  {
   "cell_type": "markdown",
   "metadata": {},
   "source": [
    "Let us map the output of OpenFOAM into *dolfinx*"
   ]
  },
  {
   "cell_type": "code",
   "execution_count": 7,
   "metadata": {},
   "outputs": [
    {
     "name": "stdout",
     "output_type": "stream",
     "text": [
      "Importing flux1: 500.000 / 500.00 - 0.163 s/it\n",
      "Importing flux2: 500.000 / 500.00 - 0.162 s/it\n",
      "Importing flux3: 500.000 / 500.00 - 0.162 s/it\n",
      "Importing flux4: 500.000 / 500.00 - 0.163 s/it\n",
      "Importing flux5: 500.000 / 500.00 - 0.163 s/it\n",
      "Importing flux6: 500.000 / 500.00 - 0.162 s/it\n",
      "Importing prec1: 500.000 / 500.00 - 0.162 s/it\n",
      "Importing prec2: 500.000 / 500.00 - 0.162 s/it\n",
      "Importing prec3: 500.000 / 500.00 - 0.162 s/it\n",
      "Importing prec4: 500.000 / 500.00 - 0.162 s/it\n",
      "Importing prec5: 500.000 / 500.00 - 0.162 s/it\n",
      "Importing prec6: 500.000 / 500.00 - 0.162 s/it\n",
      "Importing prec7: 500.000 / 500.00 - 0.162 s/it\n",
      "Importing prec8: 500.000 / 500.00 - 0.162 s/it\n",
      "Importing dec1: 500.000 / 500.00 - 0.162 s/it\n",
      "Importing dec2: 500.000 / 500.00 - 0.162 s/it\n",
      "Importing dec3: 500.000 / 500.00 - 0.162 s/it\n",
      "Importing T: 500.000 / 500.00 - 0.162 s/it\n",
      "Importing p: 500.000 / 500.00 - 0.162 s/it\n",
      "Importing U: 500.000 / 500.00 - 0.317 s/it\n"
     ]
    }
   ],
   "source": [
    "from pyforce.tools.functions_list import FunctionsList\n",
    "from pyforce.tools.write_read import StoreFunctionsList\n",
    "\n",
    "snaps = dict() # {var_names[field_i]: FunctionsList(fun_spaces[field_i]) for field_i in range(len(var_names))}\n",
    "\n",
    "path_snaps = './dolfinx_data/'\n",
    "\n",
    "for field_i, field in enumerate(var_names):\n",
    "    \n",
    "    # Projection in dolfinx\n",
    "    snaps[field] = oF.foam_to_dolfinx(fun_spaces[field_i], of_snaps[field], variables=['x', 'z'],  cut_value = oF.of_dofs[1,0], verbose='Importing '+field)\n",
    "\n",
    "    # Store the snapshots\n",
    "    StoreFunctionsList(domain, snaps[field], field, path_snaps+field, times)"
   ]
  },
  {
   "cell_type": "markdown",
   "metadata": {},
   "source": [
    "Let us store the data using *pickle*"
   ]
  },
  {
   "cell_type": "code",
   "execution_count": 8,
   "metadata": {},
   "outputs": [],
   "source": [
    "import pickle\n",
    "pickle.dump([var_names, is_vector, times], open('msfr_uloff.set', 'wb'))"
   ]
  }
 ],
 "metadata": {
  "kernelspec": {
   "display_name": "mp",
   "language": "python",
   "name": "python3"
  },
  "language_info": {
   "codemirror_mode": {
    "name": "ipython",
    "version": 3
   },
   "file_extension": ".py",
   "mimetype": "text/x-python",
   "name": "python",
   "nbconvert_exporter": "python",
   "pygments_lexer": "ipython3",
   "version": "3.10.12"
  }
 },
 "nbformat": 4,
 "nbformat_minor": 2
}
