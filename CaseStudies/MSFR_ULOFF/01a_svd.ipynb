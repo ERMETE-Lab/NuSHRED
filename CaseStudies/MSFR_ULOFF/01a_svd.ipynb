{
 "cells": [
  {
   "cell_type": "markdown",
   "metadata": {},
   "source": [
    "# Singular Value Decomposition of the snapshots"
   ]
  },
  {
   "cell_type": "markdown",
   "metadata": {},
   "source": [
    "At first, let us define the mesh onto which the snapshots are defined"
   ]
  },
  {
   "cell_type": "code",
   "execution_count": 1,
   "metadata": {},
   "outputs": [
    {
     "name": "stdout",
     "output_type": "stream",
     "text": [
      "Info    : Reading '../EVOL_geom.geo'...\n",
      "Info    : Done reading '../EVOL_geom.geo'\n",
      "Info    : Meshing 1D...\n",
      "Info    : [  0%] Meshing curve 1 (Line)\n",
      "Info    : [ 10%] Meshing curve 2 (Line)\n",
      "Info    : [ 20%] Meshing curve 3 (Line)\n",
      "Info    : [ 30%] Meshing curve 4 (Line)\n",
      "Info    : [ 40%] Meshing curve 5 (Line)\n",
      "Info    : [ 40%] Meshing curve 6 (Line)\n",
      "Info    : [ 50%] Meshing curve 7 (Line)\n",
      "Info    : [ 60%] Meshing curve 8 (Line)\n",
      "Info    : [ 70%] Meshing curve 9 (Line)\n",
      "Info    : [ 70%] Meshing curve 10 (Line)\n",
      "Info    : [ 80%] Meshing curve 11 (Line)\n",
      "Info    : [ 90%] Meshing curve 12 (Line)\n",
      "Info    : [100%] Meshing curve 13 (Line)\n",
      "Info    : Done meshing 1D (Wall 0.00166207s, CPU 0.001213s)\n",
      "Info    : Meshing 2D...\n",
      "Info    : [  0%] Meshing surface 1 (Plane, Frontal-Delaunay)\n",
      "Info    : [ 50%] Meshing surface 2 (Plane, Frontal-Delaunay)\n",
      "Info    : Done meshing 2D (Wall 1.37676s, CPU 1.35797s)\n",
      "Info    : 45732 nodes 92055 elements\n",
      "Info    : Optimizing mesh (Netgen)...\n",
      "Info    : Done optimizing mesh (Wall 2.12062e-06s, CPU 1.8e-05s)\n"
     ]
    }
   ],
   "source": [
    "from mesh import *\n",
    "\n",
    "domain, ct, ft = evol_mesh()"
   ]
  },
  {
   "cell_type": "markdown",
   "metadata": {},
   "source": [
    "Let us define the functional spaces and let us import the data"
   ]
  },
  {
   "cell_type": "code",
   "execution_count": 2,
   "metadata": {},
   "outputs": [
    {
     "name": "stdout",
     "output_type": "stream",
     "text": [
      "Importing flux1\n",
      "Importing flux2\n",
      "Importing flux3\n",
      "Importing flux4\n",
      "Importing flux5\n",
      "Importing flux6\n",
      "Importing prec1\n",
      "Importing prec2\n",
      "Importing prec3\n",
      "Importing prec4\n",
      "Importing prec5\n",
      "Importing prec6\n",
      "Importing prec7\n",
      "Importing prec8\n",
      "Importing dec1\n",
      "Importing dec2\n",
      "Importing dec3\n",
      "Importing T\n",
      "Importing p\n",
      "Importing U\n"
     ]
    }
   ],
   "source": [
    "from dolfinx.fem import FunctionSpace\n",
    "import ufl\n",
    "from pyforce.tools.functions_list import FunctionsList\n",
    "from pyforce.tools.write_read import ImportH5\n",
    "import pickle\n",
    "\n",
    "var_names, is_vector, times = pickle.load(open('msfr_uloff.set', 'rb'))\n",
    "\n",
    "fun_spaces = [FunctionSpace(domain, ('Lagrange', 1))]*(len(var_names)-1)\n",
    "fun_spaces.append(FunctionSpace(domain, ufl.VectorElement(\"CG\", domain.ufl_cell(), 1)))\n",
    "\n",
    "snaps = dict()\n",
    "path_snaps = './dolfinx_data/'\n",
    "\n",
    "for field_i, field in enumerate(var_names):\n",
    "    print('Importing '+field)\n",
    "    snaps[field] = ImportH5(fun_spaces[field_i], path_snaps+field, field, verbose=False)[0]"
   ]
  },
  {
   "cell_type": "code",
   "execution_count": 3,
   "metadata": {},
   "outputs": [
    {
     "data": {
      "text/plain": [
       "['flux1',\n",
       " 'flux2',\n",
       " 'flux3',\n",
       " 'flux4',\n",
       " 'flux5',\n",
       " 'flux6',\n",
       " 'prec1',\n",
       " 'prec2',\n",
       " 'prec3',\n",
       " 'prec4',\n",
       " 'prec5',\n",
       " 'prec6',\n",
       " 'prec7',\n",
       " 'prec8',\n",
       " 'dec1',\n",
       " 'dec2',\n",
       " 'dec3',\n",
       " 'T',\n",
       " 'p',\n",
       " 'U']"
      ]
     },
     "execution_count": 3,
     "metadata": {},
     "output_type": "execute_result"
    }
   ],
   "source": [
    "var_names"
   ]
  },
  {
   "cell_type": "markdown",
   "metadata": {},
   "source": [
    "Let us define a function to return a matrix from `FunctionsList`"
   ]
  },
  {
   "cell_type": "code",
   "execution_count": 4,
   "metadata": {},
   "outputs": [],
   "source": [
    "import numpy as np\n",
    "\n",
    "def return_matrix(_snaps: FunctionsList):\n",
    "    matrix = np.zeros((_snaps.fun_shape[0], len(_snaps)))\n",
    "    for mu in range(len(_snaps)):\n",
    "        matrix[:, mu] = _snaps(mu)\n",
    "        \n",
    "    return matrix"
   ]
  },
  {
   "cell_type": "markdown",
   "metadata": {},
   "source": [
    "## Randomized SVD"
   ]
  },
  {
   "cell_type": "code",
   "execution_count": 5,
   "metadata": {},
   "outputs": [
    {
     "name": "stdout",
     "output_type": "stream",
     "text": [
      "flux1\n",
      "flux2\n",
      "flux3\n",
      "flux4\n",
      "flux5\n",
      "flux6\n",
      "prec1\n",
      "prec2\n",
      "prec3\n",
      "prec4\n",
      "prec5\n",
      "prec6\n",
      "prec7\n",
      "prec8\n",
      "dec1\n",
      "dec2\n",
      "dec3\n",
      "T\n",
      "p\n",
      "U\n"
     ]
    }
   ],
   "source": [
    "from sklearn.utils.extmath import randomized_svd\n",
    "from pyforce.tools.functions_list import FunctionsMatrix\n",
    "\n",
    "rescaling_snaps = list()\n",
    "new_var_names = list()\n",
    "\n",
    "Nmodes = 10\n",
    "\n",
    "u_total = dict()\n",
    "s_total = dict()\n",
    "\n",
    "for field_i, field in enumerate(var_names):\n",
    "    \n",
    "    print(field)\n",
    "    u = return_matrix(snaps[field])\n",
    "    rescaling_snaps.append(np.mean(u[:,0]))\n",
    "\n",
    "    X = u / rescaling_snaps[field_i]\n",
    "    # print(min(X.flatten()))\n",
    "    # print(max(X.flatten()))\n",
    "    \n",
    "    u_svd, s_svd, v_svd = randomized_svd(X, n_components=Nmodes,n_iter='auto')\n",
    "\n",
    "    if field_i == 0:\n",
    "        v_total = v_svd\n",
    "    else:\n",
    "        v_total = np.vstack((v_total, v_svd))\n",
    "        \n",
    "    s_total[field] = s_svd.flatten()\n",
    "    u_total[field] = u_svd\n",
    "        \n",
    "    new_var_names.append(field)\n",
    "        \n",
    "# rescaling_snaps = np.asarray(rescaling_snaps)"
   ]
  },
  {
   "cell_type": "code",
   "execution_count": 6,
   "metadata": {},
   "outputs": [
    {
     "name": "stdout",
     "output_type": "stream",
     "text": [
      "(200, 500)\n"
     ]
    }
   ],
   "source": [
    "print(v_total.shape)"
   ]
  },
  {
   "cell_type": "markdown",
   "metadata": {},
   "source": [
    "Let us plot the singular values"
   ]
  },
  {
   "cell_type": "code",
   "execution_count": 7,
   "metadata": {},
   "outputs": [],
   "source": [
    "# import matplotlib.pyplot as plt\n",
    "# from matplotlib import cm\n",
    "\n",
    "# fig, axs = plt.subplots(nrows = 1, ncols = 2, sharex=True, figsize=(12,5))\n",
    "\n",
    "# N_plot = np.arange(1, Nmodes+1, 1)\n",
    "\n",
    "# colors = cm.jet(np.linspace(0,1,len(var_names)))\n",
    "# for field_i, field in enumerate(var_names):\n",
    "#     axs[0].semilogy(N_plot, s_total[field], color=colors[field_i], label=field)\n",
    "#     axs[1].semilogy(N_plot, 1-np.cumsum(s_total[field]**2) / np.sum(s_total[field]**2), color=colors[field_i], label=field)\n",
    "# axs[0].grid()\n",
    "# axs[1].grid()\n",
    "# axs[0].legend()"
   ]
  },
  {
   "cell_type": "code",
   "execution_count": 8,
   "metadata": {},
   "outputs": [],
   "source": [
    "from scipy.interpolate import CubicSpline\n",
    "from pyforce.tools.write_read import StoreFunctionsList\n",
    "import os\n",
    "\n",
    "[r,nt] = v_total.shape\n",
    "t = np.asarray(times)\n",
    "newnt = 2000\n",
    "\n",
    "new_t = np.linspace(t[0], t[-1], newnt)\n",
    "v_total_new = np.zeros((r,newnt))\n",
    "\n",
    "for j in range(r):\n",
    "    spline = CubicSpline(t, v_total[j,:])\n",
    "    v_total_new[j,:] = spline(new_t)\n",
    "\n",
    "\n",
    "path='./OfflineSVD/'\n",
    "if not os.path.exists(path):\n",
    "    os.makedirs(path)\n",
    "    \n",
    "pickle.dump(u_total, open(path+\"u_total.svd\", 'wb'))\n",
    "pickle.dump(v_total_new, open(path+\"v_total.svd\", 'wb'))\n",
    "pickle.dump(s_total, open(path+\"s_total.svd\", 'wb'))\n",
    "pickle.dump(new_var_names, open(path+\"var.names\", 'wb'))\n",
    "\n",
    "pickle.dump(rescaling_snaps, open(path+\"rescaling.svd\", 'wb'))"
   ]
  },
  {
   "cell_type": "code",
   "execution_count": 9,
   "metadata": {},
   "outputs": [],
   "source": [
    "# import matplotlib.pyplot as plt\n",
    "\n",
    "# plt.plot(new_t, v_total_new[30:35].T)\n",
    "# plt.plot(times, v_total[30:35].T, '--')"
   ]
  }
 ],
 "metadata": {
  "kernelspec": {
   "display_name": "Python 3 (ipykernel)",
   "language": "python",
   "name": "python3"
  },
  "language_info": {
   "codemirror_mode": {
    "name": "ipython",
    "version": 3
   },
   "file_extension": ".py",
   "mimetype": "text/x-python",
   "name": "python",
   "nbconvert_exporter": "python",
   "pygments_lexer": "ipython3",
   "version": "3.10.12"
  }
 },
 "nbformat": 4,
 "nbformat_minor": 2
}
